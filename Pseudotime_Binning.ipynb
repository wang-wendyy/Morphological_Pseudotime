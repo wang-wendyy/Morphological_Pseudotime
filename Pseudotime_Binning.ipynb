{
 "cells": [
  {
   "cell_type": "code",
   "execution_count": null,
   "id": "065bd5e4",
   "metadata": {},
   "outputs": [],
   "source": [
    "#Import data\n",
    "\n",
    "import phate\n",
    "import pandas as pd\n",
    "import numpy as np\n",
    "import matplotlib.pyplot as plt\n",
    "import scipy as sch\n",
    "import scipy.cluster.hierarchy as sch"
   ]
  },
  {
   "cell_type": "code",
   "execution_count": null,
   "id": "9786b3c5",
   "metadata": {},
   "outputs": [],
   "source": [
    "Data = pd.read_csv('')"
   ]
  },
  {
   "cell_type": "code",
   "execution_count": null,
   "id": "f4eddacd",
   "metadata": {},
   "outputs": [],
   "source": [
    "#Run PHATE\n",
    "\n",
    "import phate\n",
    "\n",
    "phate_op = phate.PHATE(knn = 3)\n",
    "Data_phate = phate_op.fit_transform(Data)\n",
    "\n",
    "phate.plot.scatter2d(Data_phate, figsize=(30,10), s= 700, alpha =1, c = Labels, cmap = ('#FFC0CB', '#A9A9A9'), edgecolors = 'black')\n",
    "\n",
    "matplotlib.rcParams['figure.figsize'] = (25, 10)\n",
    "phate.plot.scatter2d(Data_phate, s= 1000, alpha =1, c = Labels, cmap = ('#E26983', '#459E97', '#459E97'), edgecolors = 'black')\n",
    "plt.ylim((-0.05, 0.1))\n",
    "plt.xlim((-0.05, 0.11))\n",
    "plt.grid = False\n",
    "plt.top = False\n",
    "plt.gca().spines['right'].set_color('none')\n",
    "plt.gca().spines['top'].set_color('none')\n",
    "plt.ylabel(r'PHATE 1', fontsize=47)\n",
    "plt.xlabel(r'PHATE 2', fontsize=47)\n",
    "ax = plt.gca()\n",
    "ax.legend_ = None\n",
    "plt.savefig('', dpi=300, bbox_inches = 'tight', transparent = True)\n",
    "\n",
    "\n"
   ]
  },
  {
   "cell_type": "code",
   "execution_count": null,
   "id": "050b8e8f",
   "metadata": {},
   "outputs": [],
   "source": [
    "#Run Pseudotime\n",
    "\n",
    "import anndata\n",
    "import scanpy\n",
    "\n",
    "# Here we create an AnnData container\n",
    "adata = anndata.AnnData(Data)\n",
    "\n",
    "# DPT requires a root cell, depending on the orientation of your\n",
    "# plot, you should be able to use the cell with the lowest \n",
    "# PHATE1 coordinate\n",
    "\n",
    "adata.uns['iroot'] = np.argmin(Data_phate[:,0])\n",
    "\n",
    "# Run diffusion pseudotime\n",
    "\n",
    "scanpy.pp.pca(adata)\n",
    "scanpy.pp.neighbors(adata)\n",
    "scanpy.tl.diffmap(adata)\n",
    "scanpy.tl.dpt(adata, n_branchings=0)\n",
    "\n",
    "# Grab the output\n",
    "\n",
    "dpt = adata.obs['dpt_pseudotime'].to_numpy()"
   ]
  },
  {
   "cell_type": "code",
   "execution_count": null,
   "id": "8eae0465",
   "metadata": {},
   "outputs": [],
   "source": [
    "# plot\n",
    "\n",
    "scprep.plot.scatter2d(data_phate, c=dpt)"
   ]
  },
  {
   "cell_type": "code",
   "execution_count": null,
   "id": "77e62ba1",
   "metadata": {},
   "outputs": [],
   "source": [
    "#Build a knn graph\n",
    "\n",
    "import graphtools\n",
    "G = graphtools.Graph(data, knn=5, decay=None, kernel_symm=None)"
   ]
  },
  {
   "cell_type": "code",
   "execution_count": null,
   "id": "97a9b5e3",
   "metadata": {},
   "outputs": [],
   "source": [
    "#Measure knn group identity by pseudotime bin"
   ]
  },
  {
   "cell_type": "code",
   "execution_count": null,
   "id": "cc9cc01e",
   "metadata": {},
   "outputs": [],
   "source": [
    "matplotlib.rcParams['figure.figsize'] = (10, 10)\n",
    "\n",
    "step = 0.2\n",
    "bin_proportions = []\n",
    "bin_starts = np.arange(np.min(dpt), np.max(dpt), step)\n",
    "for bin_start in bin_starts:\n",
    "    # find which points sit in this bin\n",
    "    bin_points = np.argwhere((dpt >=  bin_start) & (dpt < bin_start + step)).flatten()\n",
    "    bin_proportion = []\n",
    "    for idx in bin_points:\n",
    "        # find this point's 5 nearest neighbors\n",
    "        idx_neighbors = G.kernel[idx].astype(bool).toarray().flatten()\n",
    "        # calculate proportion of neighbors from the same group\n",
    "        idx_proportion = np.mean(Labels_New[idx_neighbors] == Labels_New[idx])\n",
    "        bin_proportion.append(idx_proportion)\n",
    "    # take the mean across all points in the bin\n",
    "    bin_proportions.append(np.mean(bin_proportion))\n",
    "    \n",
    "# plot\n",
    "import matplotlib.pyplot as plt\n",
    "plt.plot(bin_starts, bin_proportions)\n",
    "plt.ylim((0, 1))\n",
    "plt.xlim((0, 1))\n",
    "plt.grid = False\n",
    "plt.top = False\n",
    "plt.gca().spines['right'].set_color('none')\n",
    "plt.gca().spines['top'].set_color('none')\n",
    "plt.ylabel(r'Proportion of Cells', fontsize=20)\n",
    "plt.xlabel(r'Pseudotime', fontsize=20)\n",
    "ax = plt.gca()\n",
    "\n",
    "ax.legend_ = None"
   ]
  }
 ],
 "metadata": {
  "kernelspec": {
   "display_name": "Python 3 (ipykernel)",
   "language": "python",
   "name": "python3"
  },
  "language_info": {
   "codemirror_mode": {
    "name": "ipython",
    "version": 3
   },
   "file_extension": ".py",
   "mimetype": "text/x-python",
   "name": "python",
   "nbconvert_exporter": "python",
   "pygments_lexer": "ipython3",
   "version": "3.9.7"
  }
 },
 "nbformat": 4,
 "nbformat_minor": 5
}
